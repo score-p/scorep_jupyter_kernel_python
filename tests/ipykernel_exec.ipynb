{
 "cells": [
  {
   "cell_type": "code",
   "execution_count": null,
   "id": "bash-env-cell",
   "metadata": {},
   "outputs": [
    {
     "name": "stdout",
     "output_type": "stream",
     "text": [
      "MY_ENV_VAR=1234\n"
     ]
    }
   ],
   "source": [
    "%%bash\n",
    "export MY_ENV_VAR=1234\n",
    "echo MY_ENV_VAR=$MY_ENV_VAR"
   ]
  },
  {
   "cell_type": "code",
   "execution_count": null,
   "id": "var-assign-cell",
   "metadata": {},
   "outputs": [],
   "source": [
    "a = 5\n",
    "b = 10"
   ]
  },
  {
   "cell_type": "code",
   "execution_count": null,
   "id": "print-cell",
   "metadata": {},
   "outputs": [
    {
     "name": "stdout",
     "output_type": "stream",
     "text": [
      "a + b = 15\n"
     ]
    }
   ],
   "source": [
    "print('a + b =', a + b)"
   ]
  }
 ],
 "metadata": {
  "kernelspec": {
   "display_name": "Python 3",
   "language": "python",
   "name": "python3"
  },
  "language_info": {
   "name": "python",
   "version": "3.10"
  }
 },
 "nbformat": 4,
 "nbformat_minor": 5
}