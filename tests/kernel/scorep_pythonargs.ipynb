{
 "cells": [
  {
   "cell_type": "code",
   "execution_count": null,
   "id": "scorep-binding-cell",
   "metadata": {},
   "outputs": [
    {
     "name": "stdout",
     "output_type": "stream",
     "text": [
      "Score-P Python binding arguments set successfully: ['--noinstrumenter']\n"
     ]
    }
   ],
   "source": [
    "%%scorep_python_binding_arguments\n",
    "--noinstrumenter"
   ]
  }
 ],
 "metadata": {
  "kernelspec": {
   "display_name": "Python 3",
   "language": "python",
   "name": "python3"
  },
  "language_info": {
   "name": "python",
   "version": "3.10"
  }
 },
 "nbformat": 4,
 "nbformat_minor": 5
}