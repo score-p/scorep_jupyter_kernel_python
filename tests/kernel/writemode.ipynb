{
 "cells": [
  {
   "cell_type": "code",
   "execution_count": null,
   "id": "e16dce19-c377-40a4-be69-57808e2370ee",
   "metadata": {},
   "outputs": [
    {
     "name": "stdout",
     "output_type": "stream",
     "text": [
      "Started converting to Python script. See files:\n${PWD}/jupyter_to_script_run.sh\n${PWD}/jupyter_to_script.py"
     ]
    }
   ],
   "source": [
    "%%start_writefile"
   ]
  },
  {
   "cell_type": "code",
   "execution_count": null,
   "id": "2d514456-cdce-4493-a343-413aa11bbd64",
   "metadata": {},
   "outputs": [
    {
     "name": "stdout",
     "output_type": "stream",
     "text": []
    }
   ],
   "source": [
    "%env SCOREP_ENABLE_TRACING=1\n",
    "%env SCOREP_ENABLE_PROFILING=0\n",
    "%env SCOREP_TOTAL_MEMORY=3g\n",
    "%env SCOREP_EXPERIMENT_DIRECTORY=test_kernel_tmp/scorep-traces"
   ]
  },
  {
   "cell_type": "code",
   "execution_count": null,
   "id": "15e08b20-53eb-43c6-9d2c-560df127aba3",
   "metadata": {},
   "outputs": [
    {
     "name": "stdout",
     "output_type": "stream",
     "text": [
      "Writefile mode aborted."
     ]
    }
   ],
   "source": [
    "%%abort_writefile"
   ]
  },
  {
   "cell_type": "code",
   "execution_count": null,
   "id": "b0fe2cc0-54b8-4873-a724-2915f8788ad0",
   "metadata": {},
   "outputs": [
    {
     "name": "stdout",
     "output_type": "stream",
     "text": [
      "Started converting to Python script. See files:\n${PWD}/test_kernel_tmp/my_jupyter_to_script_run.sh\n${PWD}/test_kernel_tmp/my_jupyter_to_script.py"
     ]
    }
   ],
   "source": [
    "%%start_writefile test_kernel_tmp/my_jupyter_to_script"
   ]
  },
  {
   "cell_type": "code",
   "execution_count": null,
   "id": "9151c886-8831-473d-bcd6-222a2197c108",
   "metadata": {},
   "outputs": [
    {
     "name": "stdout",
     "output_type": "stream",
     "text": []
    }
   ],
   "source": [
    "%env SCOREP_ENABLE_TRACING=1\n",
    "%env SCOREP_ENABLE_PROFILING=0\n",
    "%env SCOREP_TOTAL_MEMORY=3g\n",
    "%env SCOREP_EXPERIMENT_DIRECTORY=test_kernel_tmp/scorep-traces"
   ]
  },
  {
   "cell_type": "code",
   "execution_count": null,
   "id": "6785e170-6026-4bb3-a145-afa8a1bae232",
   "metadata": {},
   "outputs": [
    {
     "name": "stdout",
     "output_type": "stream",
     "text": [
      "Score-P bindings arguments recorded."
     ]
    }
   ],
   "source": [
    "%%scorep_python_binding_arguments\n",
    "--noinstrumenter"
   ]
  },
  {
   "cell_type": "code",
   "execution_count": null,
   "id": "20ae71a4-63a5-42de-b7cc-ecda8c9a5ec9",
   "metadata": {},
   "outputs": [
    {
     "name": "stdout",
     "output_type": "stream",
     "text": [
      "Python commands without instrumentation recorded."
     ]
    }
   ],
   "source": [
    "import numpy as np\n",
    "a = 5\n",
    "b = 10\n",
    "a_vec = np.arange(a)\n",
    "b_vec =  np.arange(a, b)\n",
    "print('a + b =', a + b)"
   ]
  },
  {
   "cell_type": "code",
   "execution_count": null,
   "id": "d88c93a4-db2c-4ac4-8737-b350512c1754",
   "metadata": {},
   "outputs": [
    {
     "name": "stdout",
     "output_type": "stream",
     "text": [
      "Python commands with instrumentation recorded."
     ]
    }
   ],
   "source": [
    "%%execute_with_scorep\n",
    "import scorep\n",
    "print('a - b =', a - b)\n",
    "with scorep.instrumenter.enable():\n",
    "    c_mtx = np.outer(a_vec, b_vec)"
   ]
  },
  {
   "cell_type": "code",
   "execution_count": null,
   "id": "07984d23-d5a6-4967-a2e4-48c7d1533555",
   "metadata": {},
   "outputs": [],
   "source": [
    "%%enable_multicellmode"
   ]
  },
  {
   "cell_type": "code",
   "execution_count": null,
   "id": "62917688-aea4-49c8-8ac3-6057db6b6849",
   "metadata": {},
   "outputs": [
    {
     "name": "stdout",
     "output_type": "stream",
     "text": [
      "Python commands with instrumentation recorded."
     ]
    }
   ],
   "source": [
    "c = np.sum(c_mtx)"
   ]
  },
  {
   "cell_type": "code",
   "execution_count": null,
   "id": "f903439e-8bfc-4be6-8bd9-bb2577ffb35c",
   "metadata": {},
   "outputs": [
    {
     "name": "stdout",
     "output_type": "stream",
     "text": [
      "Python commands with instrumentation recorded."
     ]
    }
   ],
   "source": [
    "with scorep.instrumenter.enable():\n",
    "    c = np.sum(c_mtx)\n",
    "c_vec = np.arange(b, c)"
   ]
  },
  {
   "cell_type": "code",
   "execution_count": null,
   "id": "7c693958-8237-43c3-992a-cdd3feeefba4",
   "metadata": {},
   "outputs": [
    {
     "name": "stdout",
     "output_type": "stream",
     "text": [
      "Python commands with instrumentation recorded."
     ]
    }
   ],
   "source": [
    "print('c =', c)\n",
    "print('Sum(c_vec) =', c_vec.sum())"
   ]
  },
  {
   "cell_type": "code",
   "execution_count": null,
   "id": "b8d43089-29bb-40e5-87b2-1086087dc916",
   "metadata": {},
   "outputs": [],
   "source": [
    "%%finalize_multicellmode"
   ]
  },
  {
   "cell_type": "code",
   "execution_count": null,
   "id": "cf384905-d7f7-4638-8a72-d996bf104007",
   "metadata": {},
   "outputs": [
    {
     "name": "stdout",
     "output_type": "stream",
     "text": [
      "Finished converting to Python script."
     ]
    }
   ],
   "source": [
    "%%end_writefile"
   ]
  },
  {
   "cell_type": "code",
   "execution_count": null,
   "id": "4284a980-3638-42b2-b1cb-d484001fbf1c",
   "metadata": {},
   "outputs": [
    {
     "name": "stdout",
     "output_type": "stream",
     "text": [
      "a + b = 15\n",
      "a - b = -5\n",
      "c = 350\n",
      "Sum(c_vec) = 61030\n"
     ]
    }
   ],
   "source": [
    "%%bash\n",
    "chmod u+x test_kernel_tmp/my_jupyter_to_script_run.sh\n",
    "./test_kernel_tmp/my_jupyter_to_script_run.sh"
   ]
  }
 ],
 "metadata": {
  "kernelspec": {
   "display_name": "Python 3",
   "language": "python",
   "name": "python3"
  },
  "language_info": {
   "name": "python",
   "version": "3.10"
  }
 },
 "nbformat": 4,
 "nbformat_minor": 5
}