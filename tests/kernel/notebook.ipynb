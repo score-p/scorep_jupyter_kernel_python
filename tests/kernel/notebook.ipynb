{
 "cells": [
  {
   "cell_type": "markdown",
   "metadata": {},
   "source": [
    "### scorep_env"
   ]
  },
  {
   "cell_type": "code",
   "execution_count": 1,
   "metadata": {},
   "outputs": [
    {
     "name": "stdout",
     "output_type": "stream",
     "text": [
      "env: SCOREP_ENABLE_TRACING=1\n",
      "env: SCOREP_ENABLE_PROFILING=0\n",
      "env: SCOREP_TOTAL_MEMORY=3g\n",
      "env: SCOREP_EXPERIMENT_DIRECTORY=test_kernel_tmp/scorep-traces\n"
     ]
    }
   ],
   "source": [
    "%env SCOREP_ENABLE_TRACING=1\n",
    "%env SCOREP_ENABLE_PROFILING=0\n",
    "%env SCOREP_TOTAL_MEMORY=3g\n",
    "%env SCOREP_EXPERIMENT_DIRECTORY=test_kernel_tmp/scorep-traces"
   ]
  },
  {
   "cell_type": "markdown",
   "metadata": {},
   "source": [
    "### scorep_pythonargs"
   ]
  },
  {
   "cell_type": "code",
   "execution_count": 2,
   "metadata": {},
   "outputs": [
    {
     "name": "stdout",
     "output_type": "stream",
     "text": [
      "Score-P Python binding arguments set successfully: ['--noinstrumenter']"
     ]
    }
   ],
   "source": [
    "%%scorep_python_binding_arguments\n",
    "--noinstrumenter"
   ]
  },
  {
   "cell_type": "markdown",
   "metadata": {},
   "source": [
    "### ipykernel_exec"
   ]
  },
  {
   "cell_type": "code",
   "execution_count": 3,
   "metadata": {},
   "outputs": [
    {
     "name": "stdout",
     "output_type": "stream",
     "text": [
      "MY_ENV_VAR=1234\n"
     ]
    }
   ],
   "source": [
    "%%bash\n",
    "export MY_ENV_VAR=1234\n",
    "echo MY_ENV_VAR=$MY_ENV_VAR"
   ]
  },
  {
   "cell_type": "code",
   "execution_count": 4,
   "metadata": {},
   "outputs": [],
   "source": [
    "a = 5\n",
    "b = 10"
   ]
  },
  {
   "cell_type": "code",
   "execution_count": 5,
   "metadata": {},
   "outputs": [
    {
     "name": "stdout",
     "output_type": "stream",
     "text": [
      "a + b = 15\n"
     ]
    }
   ],
   "source": [
    "print('a + b =', a + b)"
   ]
  },
  {
   "cell_type": "markdown",
   "metadata": {},
   "source": [
    "### scorep_exec"
   ]
  },
  {
   "cell_type": "code",
   "execution_count": 6,
   "metadata": {},
   "outputs": [
    {
     "name": "stdout",
     "output_type": "stream",
     "text": [
      "Kernel uses 'dill' marshaller in 'memory' mode."
     ]
    }
   ],
   "source": [
    "%%marshalling_settings\n",
    "MARSHALLER=dill\n",
    "MODE=memory"
   ]
  },
  {
   "cell_type": "code",
   "execution_count": 7,
   "metadata": {},
   "outputs": [
    {
     "name": "stdout",
     "output_type": "stream",
     "text": [
      "\u0000a - b = -5\n",
      "Instrumentation results can be found in test_kernel_tmp/scorep-traces"
     ]
    }
   ],
   "source": [
    "%%execute_with_scorep\n",
    "import scorep\n",
    "with scorep.instrumenter.enable():\n",
    "    print('a - b =', a - b)"
   ]
  },
  {
   "cell_type": "code",
   "execution_count": 8,
   "metadata": {},
   "outputs": [
    {
     "name": "stdout",
     "output_type": "stream",
     "text": [
      "Kernel uses 'dill' marshaller in 'disk' mode."
     ]
    }
   ],
   "source": [
    "%%marshalling_settings\n",
    "MARSHALLER=dill\n",
    "MODE=disk"
   ]
  },
  {
   "cell_type": "code",
   "execution_count": 9,
   "metadata": {},
   "outputs": [
    {
     "name": "stdout",
     "output_type": "stream",
     "text": [
      "\u0000a - b = -5\n",
      "Instrumentation results can be found in test_kernel_tmp/scorep-traces"
     ]
    }
   ],
   "source": [
    "%%execute_with_scorep\n",
    "import scorep\n",
    "with scorep.instrumenter.enable():\n",
    "    print('a - b =', a - b)"
   ]
  },
  {
   "cell_type": "code",
   "execution_count": 10,
   "metadata": {},
   "outputs": [
    {
     "name": "stdout",
     "output_type": "stream",
     "text": [
      "Kernel uses 'cloudpickle' marshaller in 'memory' mode."
     ]
    }
   ],
   "source": [
    "%%marshalling_settings\n",
    "MARSHALLER=cloudpickle\n",
    "MODE=memory"
   ]
  },
  {
   "cell_type": "code",
   "execution_count": 11,
   "metadata": {},
   "outputs": [
    {
     "name": "stdout",
     "output_type": "stream",
     "text": [
      "\u0000a - b = -5\n",
      "Instrumentation results can be found in test_kernel_tmp/scorep-traces"
     ]
    }
   ],
   "source": [
    "%%execute_with_scorep\n",
    "import scorep\n",
    "with scorep.instrumenter.enable():\n",
    "    print('a - b =', a - b)"
   ]
  },
  {
   "cell_type": "code",
   "execution_count": 12,
   "metadata": {},
   "outputs": [
    {
     "name": "stdout",
     "output_type": "stream",
     "text": [
      "Kernel uses 'cloudpickle' marshaller in 'disk' mode."
     ]
    }
   ],
   "source": [
    "%%marshalling_settings\n",
    "MARSHALLER=cloudpickle\n",
    "MODE=disk"
   ]
  },
  {
   "cell_type": "code",
   "execution_count": 13,
   "metadata": {},
   "outputs": [
    {
     "name": "stdout",
     "output_type": "stream",
     "text": [
      "\u0000a - b = -5\n",
      "Instrumentation results can be found in test_kernel_tmp/scorep-traces"
     ]
    }
   ],
   "source": [
    "%%execute_with_scorep\n",
    "import scorep\n",
    "with scorep.instrumenter.enable():\n",
    "    print('a - b =', a - b)"
   ]
  },
  {
   "cell_type": "markdown",
   "metadata": {},
   "source": [
    "### persistence"
   ]
  },
  {
   "cell_type": "code",
   "execution_count": 14,
   "metadata": {},
   "outputs": [
    {
     "name": "stdout",
     "output_type": "stream",
     "text": [
      "env: JUPYTER_VAR=JUPYTER\n"
     ]
    }
   ],
   "source": [
    "%env JUPYTER_VAR=JUPYTER"
   ]
  },
  {
   "cell_type": "code",
   "execution_count": 15,
   "metadata": {},
   "outputs": [],
   "source": [
    "import numpy as np\n",
    "def f(x):\n",
    "    return x**2\n",
    "a_vec = np.arange(a)\n",
    "b_vec = np.arange(a, b)\n",
    "\n",
    "import sys\n",
    "sys.path.append('/new/jupyter/path')"
   ]
  },
  {
   "cell_type": "code",
   "execution_count": 16,
   "metadata": {},
   "outputs": [
    {
     "name": "stdout",
     "output_type": "stream",
     "text": [
      "\u0000Inner product of a_vec and b_vec = 80\n",
      "f(4) = 16\n",
      "JUPYTER_VAR = JUPYTER\n",
      "'/new/jupyter/path' found in sys.path\n",
      "Instrumentation results can be found in test_kernel_tmp/scorep-traces"
     ]
    }
   ],
   "source": [
    "%%execute_with_scorep\n",
    "import pandas as pd\n",
    "def g(x):\n",
    "    return np.log2(x)\n",
    "with scorep.instrumenter.enable():\n",
    "    c_mtx = np.outer(a_vec, b_vec)\n",
    "print('Inner product of a_vec and b_vec =', np.dot(a_vec, b_vec))\n",
    "print('f(4) =', f(4))\n",
    "\n",
    "import os\n",
    "import sys\n",
    "print('JUPYTER_VAR =', os.environ['JUPYTER_VAR'])\n",
    "if '/new/jupyter/path' in sys.path:\n",
    "    print(\"'/new/jupyter/path' found in sys.path\")\n",
    "\n",
    "os.environ['SUBPROCESS_VAR'] = 'SUBPROCESS'\n",
    "sys.path.append('/new/subprocess/path')"
   ]
  },
  {
   "cell_type": "code",
   "execution_count": 17,
   "metadata": {},
   "outputs": [
    {
     "name": "stdout",
     "output_type": "stream",
     "text": [
      "Outer product of a_vec and b_vec =\n",
      " [[ 0  0  0  0  0]\n",
      " [ 5  6  7  8  9]\n",
      " [10 12 14 16 18]\n",
      " [15 18 21 24 27]\n",
      " [20 24 28 32 36]]\n",
      "g(16) = 4.0\n"
     ]
    }
   ],
   "source": [
    "print('Outer product of a_vec and b_vec =\\n', c_mtx)\n",
    "print('g(16) =', g(16))"
   ]
  },
  {
   "cell_type": "code",
   "execution_count": 18,
   "metadata": {},
   "outputs": [
    {
     "name": "stdout",
     "output_type": "stream",
     "text": [
      "0     0\n",
      "1     6\n",
      "2    14\n",
      "3    24\n",
      "4    36\n",
      "Name: a*b, dtype: int64\n"
     ]
    }
   ],
   "source": [
    "df = pd.DataFrame(np.vstack([a_vec, b_vec]).T, columns=['a', 'b'])\n",
    "df['a*b'] = df['a'] * df['b']\n",
    "print(df['a*b'])"
   ]
  },
  {
   "cell_type": "code",
   "execution_count": 19,
   "metadata": {},
   "outputs": [
    {
     "data": {
      "text/plain": [
       "'SUBPROCESS'"
      ]
     },
     "execution_count": 19,
     "metadata": {},
     "output_type": "execute_result"
    }
   ],
   "source": [
    "%env SUBPROCESS_VAR"
   ]
  },
  {
   "cell_type": "code",
   "execution_count": 20,
   "metadata": {},
   "outputs": [
    {
     "name": "stdout",
     "output_type": "stream",
     "text": [
      "'/new/subprocess/path' found in sys.path\n"
     ]
    }
   ],
   "source": [
    "if '/new/subprocess/path' in sys.path:\n",
    "    print(\"'/new/subprocess/path' found in sys.path\")"
   ]
  },
  {
   "cell_type": "markdown",
   "metadata": {},
   "source": [
    "### multicell"
   ]
  },
  {
   "cell_type": "code",
   "execution_count": 21,
   "metadata": {},
   "outputs": [
    {
     "name": "stdout",
     "output_type": "stream",
     "text": [
      "Multicell mode enabled. The following cells will be marked for instrumented execution."
     ]
    }
   ],
   "source": [
    "%%enable_multicellmode"
   ]
  },
  {
   "cell_type": "code",
   "execution_count": 22,
   "metadata": {},
   "outputs": [
    {
     "name": "stdout",
     "output_type": "stream",
     "text": [
      "Cell marked for multicell mode. It will be executed at position 1"
     ]
    }
   ],
   "source": [
    "c = np.sum(c_mtx)"
   ]
  },
  {
   "cell_type": "code",
   "execution_count": 23,
   "metadata": {},
   "outputs": [
    {
     "name": "stdout",
     "output_type": "stream",
     "text": [
      "Multicell mode aborted."
     ]
    }
   ],
   "source": [
    "%%abort_multicellmode"
   ]
  },
  {
   "cell_type": "code",
   "execution_count": 24,
   "metadata": {},
   "outputs": [
    {
     "name": "stdout",
     "output_type": "stream",
     "text": [
      "Multicell mode enabled. The following cells will be marked for instrumented execution."
     ]
    }
   ],
   "source": [
    "%%enable_multicellmode"
   ]
  },
  {
   "cell_type": "code",
   "execution_count": 25,
   "metadata": {},
   "outputs": [
    {
     "name": "stdout",
     "output_type": "stream",
     "text": [
      "Cell marked for multicell mode. It will be executed at position 1"
     ]
    }
   ],
   "source": [
    "with scorep.instrumenter.enable():\n",
    "    c = np.sum(c_mtx)\n",
    "c_vec = np.arange(b, c)"
   ]
  },
  {
   "cell_type": "code",
   "execution_count": 26,
   "metadata": {},
   "outputs": [
    {
     "name": "stdout",
     "output_type": "stream",
     "text": [
      "Cell marked for multicell mode. It will be executed at position 2"
     ]
    }
   ],
   "source": [
    "print('c =', c)\n",
    "print('Sum(c_vec) =', c_vec.sum())"
   ]
  },
  {
   "cell_type": "code",
   "execution_count": 27,
   "metadata": {},
   "outputs": [
    {
     "name": "stdout",
     "output_type": "stream",
     "text": [
      "\u0000Executing cell 1\n",
      "with scorep.instrumenter.enable():\n",
      "    c = np.sum(c_mtx)\n",
      "c_vec = np.arange(b, c)\n",
      "----------------------------------\n",
      "\n",
      "\n",
      "Executing cell 2\n",
      "print('c =', c)\n",
      "print('Sum(c_vec) =', c_vec.sum())\n",
      "----------------------------------\n",
      "c = 350\n",
      "Sum(c_vec) = 61030\n",
      "\n",
      "\n",
      "Instrumentation results can be found in test_kernel_tmp/scorep-traces"
     ]
    }
   ],
   "source": [
    "%%finalize_multicellmode"
   ]
  },
  {
   "cell_type": "markdown",
   "metadata": {},
   "source": [
    "### writemode"
   ]
  },
  {
   "cell_type": "code",
   "execution_count": 28,
   "metadata": {},
   "outputs": [
    {
     "name": "stdout",
     "output_type": "stream",
     "text": [
      "Started converting to Python script. See files:\n",
      "/home/carthage/py_work/hotfix/test_kernel_tmp/my_jupyter_to_script_run.sh\n",
      "/home/carthage/py_work/hotfix/test_kernel_tmp/my_jupyter_to_script.py\n"
     ]
    }
   ],
   "source": [
    "%%start_writefile test_kernel_tmp/my_jupyter_to_script"
   ]
  },
  {
   "cell_type": "code",
   "execution_count": 29,
   "metadata": {},
   "outputs": [
    {
     "name": "stdout",
     "output_type": "stream",
     "text": [
      "Python commands without instrumentation recorded."
     ]
    }
   ],
   "source": [
    "%env SCOREP_ENABLE_TRACING=1\n",
    "%env SCOREP_ENABLE_PROFILING=0\n",
    "%env SCOREP_TOTAL_MEMORY=3g\n",
    "%env SCOREP_EXPERIMENT_DIRECTORY=test_kernel_tmp/scorep-traces"
   ]
  },
  {
   "cell_type": "code",
   "execution_count": 30,
   "metadata": {},
   "outputs": [
    {
     "name": "stdout",
     "output_type": "stream",
     "text": [
      "Score-P bindings arguments recorded."
     ]
    }
   ],
   "source": [
    "%%scorep_python_binding_arguments\n",
    "--noinstrumenter"
   ]
  },
  {
   "cell_type": "code",
   "execution_count": 30,
   "metadata": {},
   "outputs": [
    {
     "name": "stdout",
     "output_type": "stream",
     "text": [
      "Python commands without instrumentation recorded."
     ]
    }
   ],
   "source": [
    "import numpy as np\n",
    "a = 5\n",
    "b = 10\n",
    "a_vec = np.arange(a)\n",
    "b_vec =  np.arange(a, b)\n",
    "print('a + b =', a + b)"
   ]
  },
  {
   "cell_type": "code",
   "execution_count": 31,
   "metadata": {},
   "outputs": [
    {
     "name": "stdout",
     "output_type": "stream",
     "text": [
      "Python commands with instrumentation recorded."
     ]
    }
   ],
   "source": [
    "%%execute_with_scorep\n",
    "import scorep\n",
    "print('a - b =', a - b)\n",
    "with scorep.instrumenter.enable():\n",
    "    c_mtx = np.outer(a_vec, b_vec)"
   ]
  },
  {
   "cell_type": "code",
   "execution_count": 32,
   "metadata": {},
   "outputs": [],
   "source": [
    "%%enable_multicellmode"
   ]
  },
  {
   "cell_type": "code",
   "execution_count": 33,
   "metadata": {},
   "outputs": [
    {
     "name": "stdout",
     "output_type": "stream",
     "text": [
      "Python commands with instrumentation recorded."
     ]
    }
   ],
   "source": [
    "c = np.sum(c_mtx)"
   ]
  },
  {
   "cell_type": "code",
   "execution_count": 34,
   "metadata": {},
   "outputs": [
    {
     "name": "stdout",
     "output_type": "stream",
     "text": [
      "Python commands with instrumentation recorded."
     ]
    }
   ],
   "source": [
    "with scorep.instrumenter.enable():\n",
    "    c = np.sum(c_mtx)\n",
    "c_vec = np.arange(b, c)"
   ]
  },
  {
   "cell_type": "code",
   "execution_count": 35,
   "metadata": {},
   "outputs": [
    {
     "name": "stdout",
     "output_type": "stream",
     "text": [
      "Python commands with instrumentation recorded."
     ]
    }
   ],
   "source": [
    "print('c =', c)\n",
    "print('Sum(c_vec) =', c_vec.sum())"
   ]
  },
  {
   "cell_type": "code",
   "execution_count": 36,
   "metadata": {},
   "outputs": [],
   "source": [
    "%%finalize_multicellmode"
   ]
  },
  {
   "cell_type": "code",
   "execution_count": 37,
   "metadata": {},
   "outputs": [
    {
     "name": "stdout",
     "output_type": "stream",
     "text": [
      "Finished converting to Python script."
     ]
    }
   ],
   "source": [
    "%%end_writefile"
   ]
  },
  {
   "cell_type": "code",
   "execution_count": null,
   "metadata": {},
   "outputs": [
    {
     "name": "stdout",
     "output_type": "stream",
     "text": [
      "a + b = 15\n",
      "a - b = -5\n",
      "c = 350\n",
      "Sum(c_vec) = 61030\n"
     ]
    }
   ],
   "source": [
    "%%bash\n",
    "chmod u+x ./test_kernel_tmp/my_jupyter_to_script_run.sh\n",
    "./test_kernel_tmp/my_jupyter_to_script_run.sh"
   ]
  },
  {
   "cell_type": "code",
   "execution_count": null,
   "metadata": {},
   "outputs": [],
   "source": []
  }
 ],
 "metadata": {
  "kernelspec": {
   "display_name": "scorep_jupyter",
   "language": "python",
   "name": "scorep_jupyter"
  },
  "language_info": {
   "file_extension": ".py",
   "mimetype": "text/plain",
   "name": "python"
  }
 },
 "nbformat": 4,
 "nbformat_minor": 4
}
