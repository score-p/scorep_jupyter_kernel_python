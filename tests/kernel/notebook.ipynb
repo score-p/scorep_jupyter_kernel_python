{
 "cells": [
  {
   "cell_type": "markdown",
   "metadata": {},
   "source": [
    "### scorep_env"
   ]
  },
  {
   "cell_type": "code",
   "execution_count": null,
   "metadata": {},
   "outputs": [],
   "source": [
    "%%scorep_env\n",
    "SCOREP_ENABLE_TRACING=1\n",
    "SCOREP_ENABLE_PROFILING=0\n",
    "SCOREP_TOTAL_MEMORY=3g\n",
    "SCOREP_EXPERIMENT_DIRECTORY=tests_tmp/scorep-traces"
   ]
  },
  {
   "cell_type": "markdown",
   "metadata": {},
   "source": [
    "### scorep_pythonargs"
   ]
  },
  {
   "cell_type": "code",
   "execution_count": null,
   "metadata": {},
   "outputs": [],
   "source": [
    "%%scorep_python_binding_arguments\n",
    "--noinstrumenter"
   ]
  },
  {
   "cell_type": "markdown",
   "metadata": {},
   "source": [
    "### ipykernel_exec"
   ]
  },
  {
   "cell_type": "code",
   "execution_count": null,
   "metadata": {},
   "outputs": [],
   "source": [
    "%%bash\n",
    "export MY_ENV_VAR=1234\n",
    "echo MY_ENV_VAR=$MY_ENV_VAR"
   ]
  },
  {
   "cell_type": "code",
   "execution_count": null,
   "metadata": {},
   "outputs": [],
   "source": [
    "a = 5\n",
    "b = 10"
   ]
  },
  {
   "cell_type": "code",
   "execution_count": null,
   "metadata": {},
   "outputs": [],
   "source": [
    "print('a + b =', a + b)"
   ]
  },
  {
   "cell_type": "markdown",
   "metadata": {},
   "source": [
    "### scorep_exec"
   ]
  },
  {
   "cell_type": "code",
   "execution_count": null,
   "metadata": {},
   "outputs": [],
   "source": [
    "%%execute_with_scorep\n",
    "import scorep\n",
    "with scorep.instrumenter.enable():\n",
    "    print('a - b =', a - b)"
   ]
  },
  {
   "cell_type": "code",
   "execution_count": null,
   "metadata": {},
   "outputs": [],
   "source": [
    "%%bash\n",
    "comm_files=(\"tests_tmp/scorep_script.py\" \"tests_tmp/jupyter_dump.pkl\" \"tests_tmp/subprocess_dump.pkl\")\n",
    "\n",
    "for file in \"${comm_files[@]}\"; do\n",
    "    if [ -e \"$file\" ]; then\n",
    "        echo \"Error: $file not cleaned up.\"\n",
    "    fi\n",
    "done"
   ]
  },
  {
   "cell_type": "code",
   "execution_count": null,
   "metadata": {},
   "outputs": [],
   "source": [
    "%%bash\n",
    "if [ -d \"tests_tmp/scorep-traces\" ] && [ -e \"tests_tmp/scorep-traces/traces.otf2\" ]; then\n",
    "    :\n",
    "elif [ -d \"tests_tmp/scorep-traces\" ]; then\n",
    "    echo \"'tests_tmp/scorep-traces' exists, but 'traces.otf2' is missing.\"\n",
    "else\n",
    "    echo \"'tests_tmp/scorep-traces' does not exist.\"\n",
    "fi"
   ]
  },
  {
   "cell_type": "markdown",
   "metadata": {},
   "source": [
    "### persistence"
   ]
  },
  {
   "cell_type": "code",
   "execution_count": null,
   "metadata": {},
   "outputs": [],
   "source": [
    "%env JUPYTER_VAR=JUPYTER"
   ]
  },
  {
   "cell_type": "code",
   "execution_count": null,
   "metadata": {},
   "outputs": [],
   "source": [
    "import numpy as np\n",
    "def f(x):\n",
    "    return x**2\n",
    "a_vec = np.arange(a)\n",
    "b_vec = np.arange(a, b)\n",
    "\n",
    "import sys\n",
    "sys.path.append('/new/jupyter/path')"
   ]
  },
  {
   "cell_type": "code",
   "execution_count": null,
   "metadata": {},
   "outputs": [],
   "source": [
    "%%execute_with_scorep\n",
    "import pandas as pd\n",
    "def g(x):\n",
    "    return np.log2(x)\n",
    "with scorep.instrumenter.enable():\n",
    "    c_mtx = np.outer(a_vec, b_vec)\n",
    "print('Inner product of a_vec and b_vec =', np.dot(a_vec, b_vec))\n",
    "print('f(4) =', f(4))\n",
    "\n",
    "import os\n",
    "import sys\n",
    "print('JUPYTER_VAR =', os.environ['JUPYTER_VAR'])\n",
    "if '/new/jupyter/path' in sys.path:\n",
    "    print(\"'/new/jupyter/path' found in sys.path\")\n",
    "\n",
    "os.environ['SUBPROCESS_VAR'] = 'SUBPROCESS'\n",
    "sys.path.append('/new/subprocess/path')"
   ]
  },
  {
   "cell_type": "code",
   "execution_count": null,
   "metadata": {},
   "outputs": [],
   "source": [
    "print('Outer product of a_vec and b_vec =\\n', c_mtx)\n",
    "print('g(16) =', g(16))"
   ]
  },
  {
   "cell_type": "code",
   "execution_count": null,
   "metadata": {},
   "outputs": [],
   "source": [
    "df = pd.DataFrame(np.vstack([a_vec, b_vec]).T, columns=['a', 'b'])\n",
    "df['a*b'] = df['a'] * df['b']\n",
    "print(df['a*b'])"
   ]
  },
  {
   "cell_type": "code",
   "execution_count": null,
   "metadata": {},
   "outputs": [],
   "source": [
    "%env SUBPROCESS_VAR"
   ]
  },
  {
   "cell_type": "code",
   "execution_count": null,
   "metadata": {},
   "outputs": [],
   "source": [
    "if '/new/subprocess/path' in sys.path:\n",
    "    print(\"'/new/subprocess/path' found in sys.path\")"
   ]
  },
  {
   "cell_type": "markdown",
   "metadata": {},
   "source": [
    "### multicell"
   ]
  },
  {
   "cell_type": "code",
   "execution_count": null,
   "metadata": {},
   "outputs": [],
   "source": [
    "%%enable_multicellmode"
   ]
  },
  {
   "cell_type": "code",
   "execution_count": null,
   "metadata": {},
   "outputs": [],
   "source": [
    "c = np.sum(c_mtx)"
   ]
  },
  {
   "cell_type": "code",
   "execution_count": null,
   "metadata": {},
   "outputs": [],
   "source": [
    "%%abort_multicellmode"
   ]
  },
  {
   "cell_type": "code",
   "execution_count": null,
   "metadata": {},
   "outputs": [],
   "source": [
    "%%enable_multicellmode"
   ]
  },
  {
   "cell_type": "code",
   "execution_count": null,
   "metadata": {},
   "outputs": [],
   "source": [
    "with scorep.instrumenter.enable():\n",
    "    c = np.sum(c_mtx)\n",
    "c_vec = np.arange(b, c)"
   ]
  },
  {
   "cell_type": "code",
   "execution_count": null,
   "metadata": {},
   "outputs": [],
   "source": [
    "print('c =', c)\n",
    "print('Sum(c_vec) =', c_vec.sum())"
   ]
  },
  {
   "cell_type": "code",
   "execution_count": null,
   "metadata": {},
   "outputs": [],
   "source": [
    "%%finalize_multicellmode"
   ]
  },
  {
   "cell_type": "markdown",
   "metadata": {},
   "source": [
    "### writemode"
   ]
  },
  {
   "cell_type": "code",
   "execution_count": null,
   "metadata": {},
   "outputs": [],
   "source": [
    "%%start_writefile tests_tmp/my_jupyter_to_script"
   ]
  },
  {
   "cell_type": "code",
   "execution_count": null,
   "metadata": {},
   "outputs": [],
   "source": [
    "%%scorep_env\n",
    "SCOREP_ENABLE_TRACING=1\n",
    "SCOREP_ENABLE_PROFILING=0\n",
    "SCOREP_TOTAL_MEMORY=3g\n",
    "SCOREP_EXPERIMENT_DIRECTORY=tests_tmp/scorep-traces"
   ]
  },
  {
   "cell_type": "code",
   "execution_count": null,
   "metadata": {},
   "outputs": [],
   "source": [
    "%%scorep_python_binding_arguments\n",
    "--noinstrumenter"
   ]
  },
  {
   "cell_type": "code",
   "execution_count": null,
   "metadata": {},
   "outputs": [],
   "source": [
    "import numpy as np\n",
    "a = 5\n",
    "b = 10\n",
    "a_vec = np.arange(a)\n",
    "b_vec =  np.arange(a, b)\n",
    "print('a + b =', a + b)"
   ]
  },
  {
   "cell_type": "code",
   "execution_count": null,
   "metadata": {},
   "outputs": [],
   "source": [
    "%%execute_with_scorep\n",
    "import scorep\n",
    "print('a - b =', a - b)\n",
    "with scorep.instrumenter.enable():\n",
    "    c_mtx = np.outer(a_vec, b_vec)"
   ]
  },
  {
   "cell_type": "code",
   "execution_count": null,
   "metadata": {},
   "outputs": [],
   "source": [
    "%%enable_multicellmode"
   ]
  },
  {
   "cell_type": "code",
   "execution_count": null,
   "metadata": {},
   "outputs": [],
   "source": [
    "c = np.sum(c_mtx)"
   ]
  },
  {
   "cell_type": "code",
   "execution_count": null,
   "metadata": {},
   "outputs": [],
   "source": [
    "with scorep.instrumenter.enable():\n",
    "    c = np.sum(c_mtx)\n",
    "c_vec = np.arange(b, c)"
   ]
  },
  {
   "cell_type": "code",
   "execution_count": null,
   "metadata": {},
   "outputs": [],
   "source": [
    "print('c =', c)\n",
    "print('Sum(c_vec) =', c_vec.sum())"
   ]
  },
  {
   "cell_type": "code",
   "execution_count": null,
   "metadata": {},
   "outputs": [],
   "source": [
    "%%finalize_multicellmode"
   ]
  },
  {
   "cell_type": "code",
   "execution_count": null,
   "metadata": {},
   "outputs": [],
   "source": [
    "%%end_writefile"
   ]
  },
  {
   "cell_type": "code",
   "execution_count": null,
   "metadata": {},
   "outputs": [],
   "source": [
    "%%bash\n",
    "chmod u+x tests_tmp/my_jupyter_to_script_run.sh\n",
    "./tests_tmp/my_jupyter_to_script_run.sh"
   ]
  }
 ],
 "metadata": {
  "kernelspec": {
   "display_name": "Python 3",
   "language": "python",
   "name": "python3"
  },
  "language_info": {
   "name": "python",
   "version": "3.11.6"
  }
 },
 "nbformat": 4,
 "nbformat_minor": 2
}
