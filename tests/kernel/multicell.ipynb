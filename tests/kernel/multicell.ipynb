{
 "cells": [
  {
   "cell_type": "code",
   "execution_count": 1,
   "id": "4e365b67-40d8-41c3-b27a-9b09281bc9d6",
   "metadata": {},
   "outputs": [
    {
     "name": "stdout",
     "output_type": "stream",
     "text": [
      "env: SCOREP_ENABLE_TRACING=1\n",
      "env: SCOREP_ENABLE_PROFILING=0\n",
      "env: SCOREP_TOTAL_MEMORY=3g\n"
     ]
    }
   ],
   "source": [
    "%env SCOREP_ENABLE_TRACING=1\n",
    "%env SCOREP_ENABLE_PROFILING=0\n",
    "%env SCOREP_TOTAL_MEMORY=3g"
   ]
  },
  {
   "cell_type": "code",
   "execution_count": 2,
   "id": "eaa0bda0-e073-4e0c-9dc0-2f9c00c6aba3",
   "metadata": {},
   "outputs": [],
   "source": [
    "import numpy as np"
   ]
  },
  {
   "cell_type": "code",
   "execution_count": 3,
   "id": "f1a95066-ac2a-4cab-a9d5-8416829faf61",
   "metadata": {},
   "outputs": [
    {
     "name": "stdout",
     "output_type": "stream",
     "text": [
      "Multicell mode enabled. The following cells will be marked for instrumented execution."
     ]
    }
   ],
   "source": [
    "%%enable_multicellmode"
   ]
  },
  {
   "cell_type": "code",
   "execution_count": 4,
   "id": "c08961b5-475a-45e6-a1af-f406739743e9",
   "metadata": {},
   "outputs": [
    {
     "name": "stdout",
     "output_type": "stream",
     "text": [
      "Multicell mode aborted."
     ]
    }
   ],
   "source": [
    "%%abort_multicellmode"
   ]
  },
  {
   "cell_type": "code",
   "execution_count": 5,
   "id": "3461a9b0-f662-435f-9f1c-aa661e661c02",
   "metadata": {},
   "outputs": [
    {
     "name": "stdout",
     "output_type": "stream",
     "text": [
      "Multicell mode enabled. The following cells will be marked for instrumented execution."
     ]
    }
   ],
   "source": [
    "%%enable_multicellmode"
   ]
  },
  {
   "cell_type": "code",
   "execution_count": 6,
   "id": "fc0e5418-60d0-43a2-bcfe-6a7323900737",
   "metadata": {},
   "outputs": [
    {
     "name": "stdout",
     "output_type": "stream",
     "text": [
      "Cell marked for multicell mode. It will be executed at position 0"
     ]
    }
   ],
   "source": [
    "a, b = 5, 10\n",
    "a_vec = np.arange(a)\n",
    "b_vec = np.arange(a, b)\n",
    "c_mtx = np.outer(a_vec, b_vec)"
   ]
  },
  {
   "cell_type": "code",
   "execution_count": 7,
   "id": "f9f0e7ef-7f95-4f37-8528-9dd6b707a257",
   "metadata": {},
   "outputs": [
    {
     "name": "stdout",
     "output_type": "stream",
     "text": [
      "Cell marked for multicell mode. It will be executed at position 1"
     ]
    }
   ],
   "source": [
    "%%execute_with_scorep\n",
    "import scorep\n",
    "with scorep.instrumenter.enable():\n",
    "    c = np.sum(c_mtx)\n",
    "c_vec = np.arange(b, c)"
   ]
  },
  {
   "cell_type": "code",
   "execution_count": 8,
   "id": "a6c13873-b7b5-4dec-9cf4-4ee0f8c77110",
   "metadata": {},
   "outputs": [
    {
     "name": "stdout",
     "output_type": "stream",
     "text": [
      "Cell marked for multicell mode. It will be executed at position 2"
     ]
    }
   ],
   "source": [
    "print('c =', c)\n",
    "print('Sum(c_vec) =', c_vec.sum())"
   ]
  },
  {
   "cell_type": "code",
   "execution_count": 9,
   "id": "b40ec2ec-d70a-40ec-9800-f3c85406cd8c",
   "metadata": {},
   "outputs": [
    {
     "name": "stdout",
     "output_type": "stream",
     "text": [
      "Executing cell 0                                  \n",
      "a, b = 5, 10                                      \n",
      "a_vec = np.arange(a)                              \n",
      "b_vec = np.arange(a, b)                           \n",
      "c_mtx = np.outer(a_vec, b_vec)                    \n",
      "------------------------------                    \n",
      "                                                  \n",
      "                                                  \n",
      "Executing cell 1                                  \n",
      "import scorep                                     \n",
      "with scorep.instrumenter.enable():                \n",
      "    c = np.sum(c_mtx)                             \n",
      "c_vec = np.arange(b, c)                           \n",
      "----------------------------------                \n",
      "                                                  \n",
      "                                                  \n",
      "Executing cell 2                                  \n",
      "print('c =', c)                                   \n",
      "print('Sum(c_vec) =', c_vec.sum())                \n",
      "----------------------------------                \n",
      "c = 350                                           \n",
      "Sum(c_vec) = 61030                                \n",
      "                                                  \n",
      "                                                  \n",
      "Instrumentation results can be found in test_kernel_tmp/scorep-traces"
     ]
    }
   ],
   "source": [
    "%%finalize_multicellmode"
   ]
  }
 ],
 "metadata": {
  "kernelspec": {
   "display_name": "JUmPER",
   "language": "python",
   "name": "jumper"
  },
  "language_info": {
   "file_extension": ".py",
   "mimetype": "text/plain",
   "name": "python"
  }
 },
 "nbformat": 4,
 "nbformat_minor": 5
}
