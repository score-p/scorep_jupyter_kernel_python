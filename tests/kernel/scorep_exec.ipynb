{
 "cells": [
  {
   "cell_type": "code",
   "execution_count": null,
   "id": "dfe6278f-9b68-48aa-8803-ab021ddd896b",
   "metadata": {},
   "outputs": [
    {
     "name": "stdout",
     "output_type": "stream",
     "text": [
      "Kernel uses 'dill' marshaller in 'memory' mode."
     ]
    }
   ],
   "source": [
    "%%marshalling_settings\n",
    "MARSHALLER=dill\n",
    "MODE=memory"
   ]
  },
  {
   "cell_type": "code",
   "execution_count": null,
   "id": "324f7a1b-7185-4f81-80c9-cb8928c71556",
   "metadata": {},
   "outputs": [
    {
     "name": "stdout",
     "output_type": "stream",
     "text": [
      "a - b = -5\n",
      "Instrumentation results can be found in test_kernel_tmp/scorep-traces"
     ]
    }
   ],
   "source": [
    "%%execute_with_scorep\n",
    "import scorep\n",
    "a = 3\n",
    "b = 8\n",
    "with scorep.instrumenter.enable():\n",
    "    print('a - b =', a - b)"
   ]
  },
  {
   "cell_type": "code",
   "execution_count": null,
   "id": "e03dc6f6-9798-47e7-b08c-427c36adf049",
   "metadata": {},
   "outputs": [
    {
     "name": "stdout",
     "output_type": "stream",
     "text": [
      "Kernel uses 'dill' marshaller in 'disk' mode."
     ]
    }
   ],
   "source": [
    "%%marshalling_settings\n",
    "MARSHALLER=dill\n",
    "MODE=disk"
   ]
  },
  {
   "cell_type": "code",
   "execution_count": null,
   "id": "e0c983f4-2d3d-4d8c-973c-330191a8443f",
   "metadata": {},
   "outputs": [
    {
     "name": "stdout",
     "output_type": "stream",
     "text": [
      "a - b = -5\n",
      "Instrumentation results can be found in test_kernel_tmp/scorep-traces"
     ]
    }
   ],
   "source": [
    "%%execute_with_scorep\n",
    "import scorep\n",
    "with scorep.instrumenter.enable():\n",
    "    print('a - b =', a - b)"
   ]
  },
  {
   "cell_type": "code",
   "execution_count": null,
   "id": "d6e86f6c-d9c8-44ef-b2ab-97b971915e75",
   "metadata": {},
   "outputs": [
    {
     "name": "stdout",
     "output_type": "stream",
     "text": [
      "Kernel uses 'cloudpickle' marshaller in 'memory' mode."
     ]
    }
   ],
   "source": [
    "%%marshalling_settings\n",
    "MARSHALLER=cloudpickle\n",
    "MODE=memory"
   ]
  },
  {
   "cell_type": "code",
   "execution_count": null,
   "id": "747bace1-f13e-4eb5-b6d9-3a0b23f3c85d",
   "metadata": {},
   "outputs": [
    {
     "name": "stdout",
     "output_type": "stream",
     "text": [
      "a - b = -5\n",
      "Instrumentation results can be found in test_kernel_tmp/scorep-traces"
     ]
    }
   ],
   "source": [
    "%%execute_with_scorep\n",
    "import scorep\n",
    "with scorep.instrumenter.enable():\n",
    "    print('a - b =', a - b)"
   ]
  },
  {
   "cell_type": "code",
   "execution_count": null,
   "id": "4d161d14-e6be-40cc-ae19-463dd907a74d",
   "metadata": {},
   "outputs": [
    {
     "name": "stdout",
     "output_type": "stream",
     "text": [
      "Kernel uses 'cloudpickle' marshaller in 'disk' mode."
     ]
    }
   ],
   "source": [
    "%%marshalling_settings\n",
    "MARSHALLER=cloudpickle\n",
    "MODE=disk"
   ]
  },
  {
   "cell_type": "code",
   "execution_count": null,
   "id": "5e3de9ac-2438-4248-92a2-89756fa6b63d",
   "metadata": {},
   "outputs": [
    {
     "name": "stdout",
     "output_type": "stream",
     "text": [
      "a - b = -5\n",
      "Instrumentation results can be found in test_kernel_tmp/scorep-traces"
     ]
    }
   ],
   "source": [
    "%%execute_with_scorep\n",
    "import scorep\n",
    "with scorep.instrumenter.enable():\n",
    "    print('a - b =', a - b)"
   ]
  }
 ],
 "metadata": {
  "kernelspec": {
   "display_name": "Python 3",
   "language": "python",
   "name": "python3"
  },
  "language_info": {
   "name": "python",
   "version": "3.10"
  }
 },
 "nbformat": 4,
 "nbformat_minor": 5
}