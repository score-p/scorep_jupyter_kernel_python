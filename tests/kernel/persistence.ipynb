{
 "cells": [
  {
   "cell_type": "code",
   "execution_count": 1,
   "id": "e662e060-e94f-461d-9b90-17498306166c",
   "metadata": {},
   "outputs": [
    {
     "name": "stdout",
     "output_type": "stream",
     "text": [
      "env: JUPYTER_VAR=JUPYTER\n"
     ]
    }
   ],
   "source": [
    "%env JUPYTER_VAR=JUPYTER"
   ]
  },
  {
   "cell_type": "code",
   "execution_count": 2,
   "id": "c3687219-bfb6-4e56-bea8-5fb80b8ac68f",
   "metadata": {},
   "outputs": [],
   "source": [
    "import numpy as np\n",
    "def f(x):\n",
    "    return x**2\n",
    "a, b = 5, 10\n",
    "a_vec = np.arange(a)\n",
    "b_vec = np.arange(a, b)\n",
    "\n",
    "import sys\n",
    "sys.path.append('/new/jupyter/path')"
   ]
  },
  {
   "cell_type": "code",
   "execution_count": 3,
   "id": "e2be8500-cc44-4e05-9abb-54ad05e7952c",
   "metadata": {},
   "outputs": [
    {
     "name": "stdout",
     "output_type": "stream",
     "text": [
      "Inner product of a_vec and b_vec = 80             \n",
      "f(4) = 16                                         \n",
      "JUPYTER_VAR = JUPYTER                             \n",
      "'/new/jupyter/path' found in sys.path             \n",
      "Instrumentation results can be found in test_kernel_tmp/scorep-traces"
     ]
    }
   ],
   "source": [
    "%%execute_with_scorep\n",
    "import pandas as pd\n",
    "import scorep\n",
    "def g(x):\n",
    "    return np.log2(x)\n",
    "with scorep.instrumenter.enable():\n",
    "    c_mtx = np.outer(a_vec, b_vec)\n",
    "print('Inner product of a_vec and b_vec =', np.dot(a_vec, b_vec))\n",
    "print('f(4) =', f(4))\n",
    "\n",
    "import os\n",
    "import sys\n",
    "print('JUPYTER_VAR =', os.environ['JUPYTER_VAR'])\n",
    "if '/new/jupyter/path' in sys.path:\n",
    "    print(\"'/new/jupyter/path' found in sys.path\")\n",
    "\n",
    "os.environ['SUBPROCESS_VAR'] = 'SUBPROCESS'\n",
    "sys.path.append('/new/subprocess/path')"
   ]
  },
  {
   "cell_type": "code",
   "execution_count": 4,
   "id": "0195bdb6-6707-4701-af15-a97d0572b7a8",
   "metadata": {},
   "outputs": [
    {
     "name": "stdout",
     "output_type": "stream",
     "text": [
      "Outer product of a_vec and b_vec =\n",
      " [[ 0  0  0  0  0]\n",
      " [ 5  6  7  8  9]\n",
      " [10 12 14 16 18]\n",
      " [15 18 21 24 27]\n",
      " [20 24 28 32 36]]\n",
      "g(16) = 4.0\n"
     ]
    }
   ],
   "source": [
    "print('Outer product of a_vec and b_vec =\\n', c_mtx)\n",
    "print('g(16) =', g(16))"
   ]
  },
  {
   "cell_type": "code",
   "execution_count": 5,
   "id": "4173d983-a330-4f86-aedb-29c74da0d2a6",
   "metadata": {},
   "outputs": [
    {
     "name": "stdout",
     "output_type": "stream",
     "text": [
      "0     0\n",
      "1     6\n",
      "2    14\n",
      "3    24\n",
      "4    36\n",
      "Name: a*b, dtype: int64\n"
     ]
    }
   ],
   "source": [
    "df = pd.DataFrame(np.vstack([a_vec, b_vec]).T, columns=['a', 'b'])\n",
    "df['a*b'] = df['a'] * df['b']\n",
    "print(df['a*b'])"
   ]
  },
  {
   "cell_type": "code",
   "execution_count": 6,
   "id": "fac7d0a7-efd0-4d45-9029-abc32641cf17",
   "metadata": {},
   "outputs": [
    {
     "data": {
      "text/plain": [
       "'SUBPROCESS'"
      ]
     },
     "execution_count": 6,
     "metadata": {},
     "output_type": "execute_result"
    }
   ],
   "source": [
    "%env SUBPROCESS_VAR"
   ]
  },
  {
   "cell_type": "code",
   "execution_count": 7,
   "id": "690d9755-f4e5-45da-ba53-b9e7153f0058",
   "metadata": {},
   "outputs": [
    {
     "name": "stdout",
     "output_type": "stream",
     "text": [
      "'/new/subprocess/path' found in sys.path\n"
     ]
    }
   ],
   "source": [
    "if '/new/subprocess/path' in sys.path:\n",
    "    print(\"'/new/subprocess/path' found in sys.path\")"
   ]
  }
 ],
 "metadata": {
  "kernelspec": {
   "display_name": "JUmPER",
   "language": "python",
   "name": "jumper"
  },
  "language_info": {
   "file_extension": ".py",
   "mimetype": "text/plain",
   "name": "python"
  }
 },
 "nbformat": 4,
 "nbformat_minor": 5
}
