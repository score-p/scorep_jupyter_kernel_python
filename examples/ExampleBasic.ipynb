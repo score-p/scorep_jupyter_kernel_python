{
 "cells": [
  {
   "cell_type": "markdown",
   "metadata": {},
   "source": [
    "## The Score-P Python Kernel\n",
    "This is the Score-P Python Kernel that allows you to execute Jupyter Notebooks with Score-P for performance analysis. It supports the usual Jupyter interactivity between cells though with some limitations (see **General Limitations**).\n",
    "\n",
    "The kernel requires [Score-P](https://www.vi-hps.org/projects/score-p/) and [Score-P Python bindings](https://github.com/score-p/scorep_binding_python) to be installed."
   ]
  },
  {
   "cell_type": "markdown",
   "metadata": {},
   "source": [
    "### Setup\n",
    "You can set up your Score-P environment by executing a cell with `%env` magic command.\n",
    "\n",
    "You can set the Score-P Python binding arguments by executing a cell that starts with `%%scorep_python_binding_arguments`."
   ]
  },
  {
   "cell_type": "code",
   "execution_count": null,
   "metadata": {
    "vscode": {
     "languageId": "any text"
    }
   },
   "outputs": [],
   "source": [
    "%env SCOREP_ENABLE_TRACING=1\n",
    "%env SCOREP_ENABLE_PROFILING=0\n",
    "%env SCOREP_TOTAL_MEMORY=3g"
   ]
  },
  {
   "cell_type": "code",
   "execution_count": null,
   "metadata": {
    "vscode": {
     "languageId": "any text"
    }
   },
   "outputs": [],
   "source": [
    "%%scorep_python_binding_arguments\n",
    "--noinstrumenter"
   ]
  },
  {
   "cell_type": "markdown",
   "metadata": {},
   "source": [
    "### Cells instrumentation\n",
    "\n",
    "Cells that should be executed with Score-P have to be marked with `%%execute_with_scorep` in the first line. Cells without that command are executed as ordinary Python processes."
   ]
  },
  {
   "cell_type": "code",
   "execution_count": null,
   "metadata": {
    "vscode": {
     "languageId": "any text"
    }
   },
   "outputs": [],
   "source": [
    "%%execute_with_scorep\n",
    "import scorep\n",
    "class A:\n",
    "    desc = \"This class and method should be...\"\n",
    "    def print_desc(self, x):\n",
    "        print(self.desc + str(x))\n",
    "\n",
    "a = A()"
   ]
  },
  {
   "cell_type": "code",
   "execution_count": null,
   "metadata": {
    "vscode": {
     "languageId": "any text"
    }
   },
   "outputs": [],
   "source": [
    "a.print_desc(\"known here\")"
   ]
  },
  {
   "cell_type": "code",
   "execution_count": null,
   "metadata": {
    "vscode": {
     "languageId": "any text"
    }
   },
   "outputs": [],
   "source": [
    "a.desc = \"new desc\""
   ]
  },
  {
   "cell_type": "code",
   "execution_count": null,
   "metadata": {
    "vscode": {
     "languageId": "any text"
    }
   },
   "outputs": [],
   "source": [
    "print(a.desc)"
   ]
  },
  {
   "cell_type": "code",
   "execution_count": null,
   "metadata": {
    "vscode": {
     "languageId": "any text"
    }
   },
   "outputs": [],
   "source": [
    "%%execute_with_scorep\n",
    "import scorep\n",
    "with scorep.instrumenter.enable():\n",
    "    a.desc = \"new desc2\""
   ]
  },
  {
   "cell_type": "code",
   "execution_count": null,
   "metadata": {
    "vscode": {
     "languageId": "any text"
    }
   },
   "outputs": [],
   "source": [
    "print(a.desc)"
   ]
  },
  {
   "cell_type": "code",
   "execution_count": null,
   "metadata": {
    "vscode": {
     "languageId": "any text"
    }
   },
   "outputs": [],
   "source": [
    "%%execute_with_scorep\n",
    "import scorep\n",
    "import time\n",
    "\n",
    "def sleep_and_double(x):\n",
    "    time.sleep(x)\n",
    "    return 2*x\n",
    "\n",
    "with scorep.instrumenter.enable():\n",
    "    x = 5\n",
    "    x = sleep_and_double(x)\n",
    "    x = sleep_and_double(x)"
   ]
  },
  {
   "cell_type": "code",
   "execution_count": null,
   "metadata": {
    "vscode": {
     "languageId": "any text"
    }
   },
   "outputs": [],
   "source": [
    "print(x)"
   ]
  },
  {
   "cell_type": "markdown",
   "metadata": {},
   "source": [
    "### Multicell mode\n",
    "You can also treat multiple cells as one single cell by using the multicell mode.\n",
    "\n",
    "For that, you can mark the cells in the order you wish to execute them. Start the marking process by a cell that starts with the `%%enable_multicellmode` command.\n",
    "\n",
    "Now mark your cells by running them. Note that the cells will not be executed at this point but will be marked for later execution.\n",
    "You can stop the marking and execute all the marked cells by running a cell that starts with `%%finalize_multicellmode` command.\n",
    "This will execute all the marked cells orderly with Score-P. Note that the `%%execute_with_scorep` command has no effect in the multi cell mode.\n",
    "\n",
    "There is no \"unmark\" command available but you can abort the multicellmode by the `%%abort_multicellmode` command. Start your marking process again if you have marked your cells in the wrong order.\n",
    "\n",
    "The `%%enable_multicellmode`, `%%finalize_multicellmode` and `%%abort_multicellmode` commands should be run in an exclusive cell. Additional code in the cell will be ignored."
   ]
  },
  {
   "cell_type": "code",
   "execution_count": null,
   "metadata": {
    "vscode": {
     "languageId": "any text"
    }
   },
   "outputs": [],
   "source": [
    "%%enable_multicellmode"
   ]
  },
  {
   "cell_type": "code",
   "execution_count": null,
   "metadata": {
    "vscode": {
     "languageId": "any text"
    }
   },
   "outputs": [],
   "source": [
    "with scorep.instrumenter.enable():\n",
    "    class B:\n",
    "        desc = \"This is a class defined in multi cell mode\"\n",
    "        def print_desc(self, x):\n",
    "            print(self.desc + str(x))"
   ]
  },
  {
   "cell_type": "code",
   "execution_count": null,
   "metadata": {
    "vscode": {
     "languageId": "any text"
    }
   },
   "outputs": [],
   "source": [
    "import scorep\n",
    "with scorep.instrumenter.enable():\n",
    "    b = B()"
   ]
  },
  {
   "cell_type": "code",
   "execution_count": null,
   "metadata": {
    "vscode": {
     "languageId": "any text"
    }
   },
   "outputs": [],
   "source": [
    "with scorep.instrumenter.enable():\n",
    "    b.print_desc(\"...and this object is initialized and used in it.\")"
   ]
  },
  {
   "cell_type": "code",
   "execution_count": null,
   "metadata": {
    "vscode": {
     "languageId": "any text"
    }
   },
   "outputs": [],
   "source": [
    "b.desc = \"modified desc\""
   ]
  },
  {
   "cell_type": "code",
   "execution_count": null,
   "metadata": {
    "vscode": {
     "languageId": "any text"
    }
   },
   "outputs": [],
   "source": [
    "print(b.desc)"
   ]
  },
  {
   "cell_type": "code",
   "execution_count": null,
   "metadata": {
    "vscode": {
     "languageId": "any text"
    }
   },
   "outputs": [],
   "source": [
    "%%finalize_multicellmode"
   ]
  },
  {
   "cell_type": "markdown",
   "metadata": {},
   "source": [
    "### Write mode\n",
    "\n",
    "With write mode you can convert notebook cells into Python script which is then to be executed by Score-P bindings using auxillary bash script. \n",
    "\n",
    "Similarly to multicell mode, you can run a cell with `%%start_writefile` magic command to enable write mode. Then, running the cells will record their contents instead of executing them. Environment variables and Score-P Python bindings arguments will be written to bash script. Finish the write mode with `%%end_writefile` cell.\n",
    "\n",
    "You can specify Python script name by providing it as an argument for `%%start_writefile`."
   ]
  },
  {
   "cell_type": "code",
   "execution_count": null,
   "metadata": {
    "vscode": {
     "languageId": "plaintext"
    }
   },
   "outputs": [],
   "source": [
    "%%start_writefile myscript.py"
   ]
  },
  {
   "cell_type": "code",
   "execution_count": null,
   "metadata": {
    "vscode": {
     "languageId": "plaintext"
    }
   },
   "outputs": [],
   "source": [
    "%env SCOREP_ENABLE_TRACING=1\n",
    "%env SCOREP_ENABLE_PROFILING=0\n",
    "%env SCOREP_TOTAL_MEMORY=3g"
   ]
  },
  {
   "cell_type": "code",
   "execution_count": null,
   "metadata": {
    "vscode": {
     "languageId": "plaintext"
    }
   },
   "outputs": [],
   "source": [
    "%%scorep_python_binding_arguments\n",
    "--noinstrumenter"
   ]
  },
  {
   "cell_type": "code",
   "execution_count": null,
   "metadata": {
    "vscode": {
     "languageId": "plaintext"
    }
   },
   "outputs": [],
   "source": [
    "print(\"Cell without instrumentation.\")"
   ]
  },
  {
   "cell_type": "code",
   "execution_count": null,
   "metadata": {
    "vscode": {
     "languageId": "plaintext"
    }
   },
   "outputs": [],
   "source": [
    "%%execute_with_scorep\n",
    "\n",
    "import numpy as np\n",
    "import scorep\n",
    "\n",
    "a = np.array([1, 2, 3])\n",
    "b = np.array([4, 5, 6])\n",
    "c = a.dot(b)"
   ]
  },
  {
   "cell_type": "code",
   "execution_count": null,
   "metadata": {
    "vscode": {
     "languageId": "plaintext"
    }
   },
   "outputs": [],
   "source": [
    "%%enable_multicellmode\n",
    "\n",
    "with scorep.instrumenter.enable():\n",
    "    d = a.outer(b)"
   ]
  },
  {
   "cell_type": "code",
   "execution_count": null,
   "metadata": {
    "vscode": {
     "languageId": "plaintext"
    }
   },
   "outputs": [],
   "source": [
    "with scorep.instrumenter.enable():\n",
    "    e = b.outer(a)"
   ]
  },
  {
   "cell_type": "code",
   "execution_count": null,
   "metadata": {
    "vscode": {
     "languageId": "plaintext"
    }
   },
   "outputs": [],
   "source": [
    "%%abort_multicellmode"
   ]
  },
  {
   "cell_type": "code",
   "execution_count": null,
   "metadata": {
    "vscode": {
     "languageId": "plaintext"
    }
   },
   "outputs": [],
   "source": [
    "%%finalize_multicellmode"
   ]
  },
  {
   "cell_type": "code",
   "execution_count": null,
   "metadata": {
    "vscode": {
     "languageId": "plaintext"
    }
   },
   "outputs": [],
   "source": [
    "%%end_writefile"
   ]
  },
  {
   "cell_type": "markdown",
   "metadata": {},
   "source": [
    "You can now run `myscript_run.sh` to execute Python script with Score-P bindings."
   ]
  },
  {
   "cell_type": "markdown",
   "metadata": {},
   "source": [
    "### Large array processing with Score-P\n",
    "This example illustrates the steps involved in the marshalling process when a cell instrumented with Score-P is executed with a large data payload as input.\n"
   ]
  },
  {
   "cell_type": "code",
   "execution_count": null,
   "metadata": {},
   "outputs": [],
   "source": [
    "import time\n",
    "import numpy as np\n",
    "\n",
    "def generate_array_with_size(size_mb, dtype=np.float32):\n",
    "    size_bytes = size_mb * 1024 * 1024\n",
    "    element_size = np.dtype(dtype).itemsize\n",
    "    num_elements = size_bytes // element_size\n",
    "    array = np.zeros(num_elements, dtype=dtype)\n",
    "    return array\n",
    "\n",
    "big_array = generate_array_with_size(size_mb=1000)"
   ]
  },
  {
   "cell_type": "markdown",
   "metadata": {},
   "source": [
    "Enable marshalling detailed report for each step."
   ]
  },
  {
   "cell_type": "code",
   "execution_count": null,
   "metadata": {},
   "outputs": [],
   "source": [
    "%env scorep_jupyter_MARSHALLING_DETAILED_REPORT=1"
   ]
  },
  {
   "cell_type": "markdown",
   "metadata": {},
   "source": [
    "Run cell with Score-P"
   ]
  },
  {
   "cell_type": "code",
   "execution_count": null,
   "metadata": {},
   "outputs": [],
   "source": [
    "%%execute_with_scorep\n",
    "big_array\n",
    "time.sleep(4)"
   ]
  }
 ],
 "metadata": {
  "kernelspec": {
   "display_name": "scorep_jupyter",
   "language": "python",
   "name": "scorep_jupyter"
  },
  "language_info": {
   "file_extension": ".py",
   "mimetype": "text/plain",
   "name": "python"
  }
 },
 "nbformat": 4,
 "nbformat_minor": 4
}
